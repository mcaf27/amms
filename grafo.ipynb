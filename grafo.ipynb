{
  "nbformat": 4,
  "nbformat_minor": 0,
  "metadata": {
    "colab": {
      "provenance": []
    },
    "kernelspec": {
      "name": "python3",
      "display_name": "Python 3"
    },
    "language_info": {
      "name": "python"
    }
  },
  "cells": [
    {
      "cell_type": "code",
      "source": [
        "!pip install powerlaw"
      ],
      "metadata": {
        "colab": {
          "base_uri": "https://localhost:8080/"
        },
        "id": "9yAs8I21EHZ7",
        "outputId": "63324589-5d06-4caf-b2f4-6fd20c48097e"
      },
      "execution_count": 95,
      "outputs": [
        {
          "output_type": "stream",
          "name": "stdout",
          "text": [
            "Requirement already satisfied: powerlaw in /usr/local/lib/python3.10/dist-packages (1.5)\n",
            "Requirement already satisfied: scipy in /usr/local/lib/python3.10/dist-packages (from powerlaw) (1.11.3)\n",
            "Requirement already satisfied: numpy in /usr/local/lib/python3.10/dist-packages (from powerlaw) (1.23.5)\n",
            "Requirement already satisfied: matplotlib in /usr/local/lib/python3.10/dist-packages (from powerlaw) (3.7.1)\n",
            "Requirement already satisfied: mpmath in /usr/local/lib/python3.10/dist-packages (from powerlaw) (1.3.0)\n",
            "Requirement already satisfied: contourpy>=1.0.1 in /usr/local/lib/python3.10/dist-packages (from matplotlib->powerlaw) (1.1.1)\n",
            "Requirement already satisfied: cycler>=0.10 in /usr/local/lib/python3.10/dist-packages (from matplotlib->powerlaw) (0.12.1)\n",
            "Requirement already satisfied: fonttools>=4.22.0 in /usr/local/lib/python3.10/dist-packages (from matplotlib->powerlaw) (4.43.1)\n",
            "Requirement already satisfied: kiwisolver>=1.0.1 in /usr/local/lib/python3.10/dist-packages (from matplotlib->powerlaw) (1.4.5)\n",
            "Requirement already satisfied: packaging>=20.0 in /usr/local/lib/python3.10/dist-packages (from matplotlib->powerlaw) (23.2)\n",
            "Requirement already satisfied: pillow>=6.2.0 in /usr/local/lib/python3.10/dist-packages (from matplotlib->powerlaw) (9.4.0)\n",
            "Requirement already satisfied: pyparsing>=2.3.1 in /usr/local/lib/python3.10/dist-packages (from matplotlib->powerlaw) (3.1.1)\n",
            "Requirement already satisfied: python-dateutil>=2.7 in /usr/local/lib/python3.10/dist-packages (from matplotlib->powerlaw) (2.8.2)\n",
            "Requirement already satisfied: six>=1.5 in /usr/local/lib/python3.10/dist-packages (from python-dateutil>=2.7->matplotlib->powerlaw) (1.16.0)\n"
          ]
        }
      ]
    },
    {
      "cell_type": "code",
      "execution_count": 96,
      "metadata": {
        "id": "qjFcxLeYTY9y"
      },
      "outputs": [],
      "source": [
        "import pandas as pd\n",
        "import networkx as nx\n",
        "import powerlaw\n",
        "import matplotlib.pyplot as plt\n",
        "import seaborn as sns"
      ]
    },
    {
      "cell_type": "code",
      "source": [
        "sns.set_theme()"
      ],
      "metadata": {
        "id": "qejS87lJbQKR"
      },
      "execution_count": 97,
      "outputs": []
    },
    {
      "cell_type": "code",
      "source": [
        "df = pd.read_csv('dados.csv', encoding='latin-1',\n",
        "                 dtype={'autor': str, 'nome': str, 'leitores': str})"
      ],
      "metadata": {
        "id": "ss6kng2nVrRJ"
      },
      "execution_count": 98,
      "outputs": []
    },
    {
      "cell_type": "code",
      "source": [
        "G = nx.Graph()"
      ],
      "metadata": {
        "id": "WLsy5H6xVsGI"
      },
      "execution_count": 99,
      "outputs": []
    },
    {
      "cell_type": "code",
      "source": [
        "for index, row in df.iterrows():\n",
        "    readers = row['leitores'].split(';')\n",
        "    node = row['nome']\n",
        "\n",
        "    G.add_node(node)\n",
        "\n",
        "    for other_row in df.iloc[index+1:].iterrows():\n",
        "        if other_row[0] != row.name:\n",
        "            other_readers = other_row[1]['leitores'].split(';')\n",
        "            common_readers = set(readers) & set(other_readers)\n",
        "            if common_readers:\n",
        "                edge_weight = len(common_readers)\n",
        "\n",
        "                G.add_edge(row['nome'], other_row[1]\n",
        "                           ['nome'], weight=edge_weight)\n",
        "\n",
        "edge_list = [(u, v, G[u][v]['weight']) for u, v in G.edges]\n",
        "\n",
        "edges_df = pd.DataFrame(edge_list, columns=['Source', 'Target', 'Weight'])\n",
        "\n",
        "edges_df.to_csv('arestas.csv', index=False)"
      ],
      "metadata": {
        "id": "7e5YqoY0Vt4G"
      },
      "execution_count": 100,
      "outputs": []
    },
    {
      "cell_type": "code",
      "source": [
        "bc = nx.betweenness_centrality(G)"
      ],
      "metadata": {
        "id": "92sFf78MVpBv"
      },
      "execution_count": 101,
      "outputs": []
    },
    {
      "cell_type": "code",
      "source": [
        "sns.histplot(bc.values())\n",
        "plt.ylabel('betweenness centrality')"
      ],
      "metadata": {
        "colab": {
          "base_uri": "https://localhost:8080/",
          "height": 452
        },
        "id": "DqgWsh-0Wmsb",
        "outputId": "c8e014e3-cedd-40e9-c707-301845662863"
      },
      "execution_count": 102,
      "outputs": [
        {
          "output_type": "execute_result",
          "data": {
            "text/plain": [
              "Text(0, 0.5, 'betweenness centrality')"
            ]
          },
          "metadata": {},
          "execution_count": 102
        },
        {
          "output_type": "display_data",
          "data": {
            "text/plain": [
              "<Figure size 640x480 with 1 Axes>"
            ],
            "image/png": "[encoded data removed]"
          },
          "metadata": {}
        }
      ]
    },
    {
      "cell_type": "code",
      "source": [
        "'livros mais centrais', sorted(bc.items(), key=lambda item: item[1], reverse=True)[:15]"
      ],
      "metadata": {
        "colab": {
          "base_uri": "https://localhost:8080/"
        },
        "id": "M7vHm7xnXFbP",
        "outputId": "35ce400d-df2b-4b32-f4d7-e82755fb977a"
      },
      "execution_count": 103,
      "outputs": [
        {
          "output_type": "execute_result",
          "data": {
            "text/plain": [
              "('livros mais centrais',\n",
              " [('O 18 Brumï¿½rio de Luï¿½s Bonaparte', 0.009526987478555229),\n",
              "  ('Casa-Grande & Senzala', 0.009486540640570779),\n",
              "  ('Leviatï¿½', 0.009181083889649944),\n",
              "  ('Os EUA e a Nova Ordem Mundial ', 0.009155874648598345),\n",
              "  ('Problemas de Gï¿½nero', 0.008627707795098081),\n",
              "  ('A Ditadura Escancarada', 0.008139526200848719),\n",
              "  ('Os Bestializados', 0.0077280897257646),\n",
              "  ('Por Que Gritamos Golpe?', 0.007483579171009289),\n",
              "  ('Livro negro do comunismo', 0.007403315866406707),\n",
              "  ('O ï¿½dio Como Polï¿½tica', 0.007401137461391676),\n",
              "  ('Origens do Totalitarismo', 0.0072843825664755495),\n",
              "  ('Os Donos do Poder: Formaï¿½ï¿½o do Patronato Polï¿½tico Brasileiro',\n",
              "   0.007038559035645895),\n",
              "  ('O Capital', 0.007013581390121642),\n",
              "  ('A Polï¿½tica', 0.006767023409735949),\n",
              "  ('Cidadania no Brasil', 0.006695285423219394)])"
            ]
          },
          "metadata": {},
          "execution_count": 103
        }
      ]
    },
    {
      "cell_type": "code",
      "source": [
        "pagerank = nx.pagerank(G)"
      ],
      "metadata": {
        "id": "1dzXMy66Yg5U"
      },
      "execution_count": 104,
      "outputs": []
    },
    {
      "cell_type": "code",
      "source": [
        "sns.histplot(pagerank.values())\n",
        "plt.ylabel('pagerank')\n",
        "plt.xlabel('livros')"
      ],
      "metadata": {
        "colab": {
          "base_uri": "https://localhost:8080/",
          "height": 476
        },
        "id": "NcUyE_aZZJRo",
        "outputId": "9189ea60-9228-4ebc-9b7d-9835d4d52376"
      },
      "execution_count": 105,
      "outputs": [
        {
          "output_type": "execute_result",
          "data": {
            "text/plain": [
              "Text(0.5, 0, 'livros')"
            ]
          },
          "metadata": {},
          "execution_count": 105
        },
        {
          "output_type": "display_data",
          "data": {
            "text/plain": [
              "<Figure size 640x480 with 1 Axes>"
            ],
            "image/png": "[encoded data removed]"
          },
          "metadata": {}
        }
      ]
    },
    {
      "cell_type": "code",
      "source": [
        "'pagerank', sorted(pagerank.items(), key=lambda item: item[1], reverse=True)[:15]"
      ],
      "metadata": {
        "colab": {
          "base_uri": "https://localhost:8080/"
        },
        "id": "jUF23iAJZJ_k",
        "outputId": "95ac99b0-3914-436b-82e6-72a8c70dd915"
      },
      "execution_count": 106,
      "outputs": [
        {
          "output_type": "execute_result",
          "data": {
            "text/plain": [
              "('pagerank',\n",
              " [('O Jardim das Afliï¿½ï¿½es', 0.008701862526357459),\n",
              "  ('A Nova Era e a Revoluï¿½ï¿½o Cultural', 0.008651852302947618),\n",
              "  ('Imbecil coletivo', 0.008104623471149399),\n",
              "  ('Corrupï¿½ï¿½o da inteligï¿½ncia', 0.007796055364020744),\n",
              "  ('Maquiavel Pedagogo', 0.00772334084364508),\n",
              "  ('Os EUA e a Nova Ordem Mundial ', 0.007179763650546787),\n",
              "  ('A Vida na Sarjeta', 0.007021148779161195),\n",
              "  ('Marxismo desmascarado', 0.007003779165376034),\n",
              "  ('Invasão vertical dos bárbaros', 0.006973894796848914),\n",
              "  ('O caminho da servidï¿½o', 0.006965314066552935),\n",
              "  ('A Mentalidade Anticapitalista', 0.006925932741788994),\n",
              "  ('Introduï¿½ï¿½o ï¿½ Nova Ordem Mundial', 0.006853110687089847),\n",
              "  ('Democracia, o Deus que Falhou', 0.006752013684281598),\n",
              "  ('Como Ser Um Conservador', 0.006722376642663203),\n",
              "  ('Maquiavel, ou a Confusï¿½o Demonï¿½aca ', 0.006632068987211243)])"
            ]
          },
          "metadata": {},
          "execution_count": 106
        }
      ]
    },
    {
      "cell_type": "code",
      "source": [
        "degrees = [d for _, d in G.degree()]"
      ],
      "metadata": {
        "id": "RKrGW0j2ZU0z"
      },
      "execution_count": 107,
      "outputs": []
    },
    {
      "cell_type": "code",
      "source": [
        "sns.histplot(degrees, bins=50)\n",
        "plt.ylabel('grau')"
      ],
      "metadata": {
        "colab": {
          "base_uri": "https://localhost:8080/",
          "height": 452
        },
        "id": "baDpnYyaa-ZZ",
        "outputId": "3e4d9aa2-e364-428c-a528-f3e7555c6657"
      },
      "execution_count": 108,
      "outputs": [
        {
          "output_type": "execute_result",
          "data": {
            "text/plain": [
              "Text(0, 0.5, 'grau')"
            ]
          },
          "metadata": {},
          "execution_count": 108
        },
        {
          "output_type": "display_data",
          "data": {
            "text/plain": [
              "<Figure size 640x480 with 1 Axes>"
            ],
            "image/png": "[encoded data removed]"
          },
          "metadata": {}
        }
      ]
    },
    {
      "cell_type": "code",
      "source": [
        "'probabilidade de ser uma power law', powerlaw.Fit(degrees).D"
      ],
      "metadata": {
        "colab": {
          "base_uri": "https://localhost:8080/"
        },
        "id": "mRVcnOG6EsGJ",
        "outputId": "395002aa-5753-430f-99a4-17d833fdc927"
      },
      "execution_count": 109,
      "outputs": [
        {
          "output_type": "stream",
          "name": "stdout",
          "text": [
            "Calculating best minimal value for power law fit\n",
            "xmin progress: 00%\rxmin progress: 00%\rxmin progress: 00%\rxmin progress: 01%\rxmin progress: 01%\rxmin progress: 02%\rxmin progress: 02%\rxmin progress: 02%\rxmin progress: 03%\rxmin progress: 03%\rxmin progress: 04%\rxmin progress: 04%\rxmin progress: 04%\rxmin progress: 05%\rxmin progress: 05%\rxmin progress: 06%\rxmin progress: 06%\rxmin progress: 06%\rxmin progress: 07%\rxmin progress: 07%\rxmin progress: 08%\rxmin progress: 08%\rxmin progress: 08%\rxmin progress: 09%\rxmin progress: 09%\rxmin progress: 10%\rxmin progress: 10%\rxmin progress: 10%\rxmin progress: 11%\rxmin progress: 11%\rxmin progress: 12%\rxmin progress: 12%\rxmin progress: 12%\rxmin progress: 13%\rxmin progress: 13%\rxmin progress: 14%\rxmin progress: 14%\rxmin progress: 14%\rxmin progress: 15%\rxmin progress: 15%\rxmin progress: 16%\rxmin progress: 16%\rxmin progress: 16%\rxmin progress: 17%\rxmin progress: 17%\rxmin progress: 18%\rxmin progress: 18%\rxmin progress: 18%\rxmin progress: 19%\rxmin progress: 19%\rxmin progress: 20%\rxmin progress: 20%\rxmin progress: 20%\rxmin progress: 21%\rxmin progress: 21%\rxmin progress: 22%\rxmin progress: 22%\rxmin progress: 22%\rxmin progress: 23%\rxmin progress: 23%\rxmin progress: 24%\rxmin progress: 24%\rxmin progress: 24%\rxmin progress: 25%\rxmin progress: 25%\rxmin progress: 26%\rxmin progress: 26%\rxmin progress: 26%\rxmin progress: 27%\rxmin progress: 27%\rxmin progress: 28%\rxmin progress: 28%\rxmin progress: 28%\rxmin progress: 29%\rxmin progress: 29%\rxmin progress: 30%\rxmin progress: 30%\rxmin progress: 30%\rxmin progress: 31%\rxmin progress: 31%\rxmin progress: 32%\rxmin progress: 32%\rxmin progress: 32%\rxmin progress: 33%\rxmin progress: 33%\rxmin progress: 34%\rxmin progress: 34%\rxmin progress: 34%\rxmin progress: 35%\rxmin progress: 35%\rxmin progress: 36%\rxmin progress: 36%\rxmin progress: 36%\rxmin progress: 37%\rxmin progress: 37%\rxmin progress: 38%\rxmin progress: 38%\rxmin progress: 38%\rxmin progress: 39%\rxmin progress: 39%\rxmin progress: 40%\rxmin progress: 40%\rxmin progress: 40%\rxmin progress: 41%\rxmin progress: 41%\rxmin progress: 42%\rxmin progress: 42%\rxmin progress: 42%\rxmin progress: 43%\rxmin progress: 43%\rxmin progress: 44%\rxmin progress: 44%\rxmin progress: 44%\rxmin progress: 45%\rxmin progress: 45%\rxmin progress: 46%\rxmin progress: 46%\rxmin progress: 46%\rxmin progress: 47%\rxmin progress: 47%\rxmin progress: 48%\rxmin progress: 48%\rxmin progress: 48%\rxmin progress: 49%\rxmin progress: 49%\rxmin progress: 50%\rxmin progress: 50%\rxmin progress: 51%\rxmin progress: 51%\rxmin progress: 51%\rxmin progress: 52%\rxmin progress: 52%\rxmin progress: 53%\rxmin progress: 53%\rxmin progress: 53%\rxmin progress: 54%\rxmin progress: 54%\rxmin progress: 55%\rxmin progress: 55%\rxmin progress: 55%\rxmin progress: 56%\rxmin progress: 56%\rxmin progress: 57%\rxmin progress: 57%\rxmin progress: 57%\rxmin progress: 58%\rxmin progress: 58%\rxmin progress: 59%\rxmin progress: 59%\rxmin progress: 59%\rxmin progress: 60%\rxmin progress: 60%\rxmin progress: 61%\rxmin progress: 61%\rxmin progress: 61%\rxmin progress: 62%\rxmin progress: 62%\rxmin progress: 63%\rxmin progress: 63%\rxmin progress: 63%\rxmin progress: 64%\rxmin progress: 64%\rxmin progress: 65%\rxmin progress: 65%\rxmin progress: 65%\rxmin progress: 66%\rxmin progress: 66%\rxmin progress: 67%\rxmin progress: 67%\rxmin progress: 67%\rxmin progress: 68%\rxmin progress: 68%\rxmin progress: 69%\rxmin progress: 69%\rxmin progress: 69%\rxmin progress: 70%\rxmin progress: 70%\rxmin progress: 71%\rxmin progress: 71%\rxmin progress: 71%\rxmin progress: 72%\rxmin progress: 72%\rxmin progress: 73%\rxmin progress: 73%\rxmin progress: 73%\rxmin progress: 74%\rxmin progress: 74%\rxmin progress: 75%\rxmin progress: 75%\rxmin progress: 75%\rxmin progress: 76%\rxmin progress: 76%\rxmin progress: 77%\rxmin progress: 77%\rxmin progress: 77%\rxmin progress: 78%\rxmin progress: 78%\rxmin progress: 79%\rxmin progress: 79%\rxmin progress: 79%\rxmin progress: 80%\rxmin progress: 80%\rxmin progress: 81%\rxmin progress: 81%\rxmin progress: 81%\rxmin progress: 82%\rxmin progress: 82%\rxmin progress: 83%\rxmin progress: 83%\rxmin progress: 83%\rxmin progress: 84%\rxmin progress: 84%\rxmin progress: 85%\rxmin progress: 85%\rxmin progress: 85%\rxmin progress: 86%\rxmin progress: 86%\rxmin progress: 87%\rxmin progress: 87%\rxmin progress: 87%\rxmin progress: 88%\rxmin progress: 88%\rxmin progress: 89%\rxmin progress: 89%\rxmin progress: 89%\rxmin progress: 90%\rxmin progress: 90%\rxmin progress: 91%\rxmin progress: 91%\rxmin progress: 91%\rxmin progress: 92%\rxmin progress: 92%\rxmin progress: 93%\rxmin progress: 93%\rxmin progress: 93%\rxmin progress: 94%\rxmin progress: 94%\rxmin progress: 95%\rxmin progress: 95%\rxmin progress: 95%\rxmin progress: 96%\rxmin progress: 96%\rxmin progress: 97%\rxmin progress: 97%\rxmin progress: 97%\rxmin progress: 98%\rxmin progress: 98%\rxmin progress: 99%\rxmin progress: 99%\r"
          ]
        },
        {
          "output_type": "stream",
          "name": "stderr",
          "text": [
            "Values less than or equal to 0 in data. Throwing out 0 or negative values\n"
          ]
        },
        {
          "output_type": "execute_result",
          "data": {
            "text/plain": [
              "('probabilidade de ser uma power law', 0.11039823452989417)"
            ]
          },
          "metadata": {},
          "execution_count": 109
        }
      ]
    },
    {
      "cell_type": "code",
      "source": [
        "average_degree = sum(dict(G.degree()).values()) / len(G)\n",
        "'grau médio do grafo:', average_degree"
      ],
      "metadata": {
        "colab": {
          "base_uri": "https://localhost:8080/"
        },
        "id": "zbj2GSCYbB-E",
        "outputId": "af847386-4d12-4bbb-803a-fc752b5cf0ae"
      },
      "execution_count": 110,
      "outputs": [
        {
          "output_type": "execute_result",
          "data": {
            "text/plain": [
              "('grau médio do grafo:', 138.81176470588235)"
            ]
          },
          "metadata": {},
          "execution_count": 110
        }
      ]
    },
    {
      "cell_type": "code",
      "source": [
        "components = list(nx.connected_components(G))\n",
        "[len(comp) for comp in components]"
      ],
      "metadata": {
        "colab": {
          "base_uri": "https://localhost:8080/"
        },
        "id": "3DdhuSFFcspV",
        "outputId": "1386b49f-0a5c-4316-a3c9-bdefa87f304b"
      },
      "execution_count": 124,
      "outputs": [
        {
          "output_type": "execute_result",
          "data": {
            "text/plain": [
              "[503, 1, 1, 1, 1, 1, 1, 1]"
            ]
          },
          "metadata": {},
          "execution_count": 124
        }
      ]
    },
    {
      "cell_type": "code",
      "source": [
        "sns.histplot([len(comp) for comp in components], bins=100)\n",
        "plt.xlabel('tamanho dos componentes')\n",
        "plt.ylabel('número de componentes')"
      ],
      "metadata": {
        "colab": {
          "base_uri": "https://localhost:8080/",
          "height": 476
        },
        "id": "47FbpWhVd16R",
        "outputId": "dea2c98b-b4a0-4390-f9d8-bd5090ca9449"
      },
      "execution_count": 112,
      "outputs": [
        {
          "output_type": "execute_result",
          "data": {
            "text/plain": [
              "Text(0, 0.5, 'número de componentes')"
            ]
          },
          "metadata": {},
          "execution_count": 112
        },
        {
          "output_type": "display_data",
          "data": {
            "text/plain": [
              "<Figure size 640x480 with 1 Axes>"
            ],
            "image/png": "[encoded data removed]"
          },
          "metadata": {}
        }
      ]
    },
    {
      "cell_type": "code",
      "source": [
        "single_component_titles = [list(i)[0] for i in components[1:]]\n",
        "big_component = G.subgraph(components[0])"
      ],
      "metadata": {
        "id": "rrek6fAbeSkg"
      },
      "execution_count": 113,
      "outputs": []
    },
    {
      "cell_type": "code",
      "source": [],
      "metadata": {
        "id": "Vrf-Ar0OHb35"
      },
      "execution_count": 113,
      "outputs": []
    },
    {
      "cell_type": "code",
      "source": [
        "num_readers = {title: len(str(df.loc[df['nome'] == title]['leitores']).split(';')) for title in single_component_titles}"
      ],
      "metadata": {
        "id": "PZXaIhOZeWYf"
      },
      "execution_count": 114,
      "outputs": []
    },
    {
      "cell_type": "code",
      "source": [
        "num_readers"
      ],
      "metadata": {
        "colab": {
          "base_uri": "https://localhost:8080/"
        },
        "id": "2EJ8n5bhe-55",
        "outputId": "e73251c4-9e4d-4a86-a838-ac36a6ac52e7"
      },
      "execution_count": 115,
      "outputs": [
        {
          "output_type": "execute_result",
          "data": {
            "text/plain": [
              "{'Viagem ao cais de Wigan': 2,\n",
              " 'O livro essencial das bruxas': 2,\n",
              " 'O Reflexo atual da subjugaï¿½ï¿½o feminina': 1,\n",
              " 'Lenin y Hitler': 1,\n",
              " 'New Lies For Old': 1,\n",
              " 'O Livro Negro de Cuba': 5,\n",
              " 'Olavo de Carvalho': 1}"
            ]
          },
          "metadata": {},
          "execution_count": 115
        }
      ]
    },
    {
      "cell_type": "code",
      "source": [
        "clustering = nx.clustering(G)"
      ],
      "metadata": {
        "id": "s5BaxaG2gIZz"
      },
      "execution_count": 116,
      "outputs": []
    },
    {
      "cell_type": "code",
      "source": [
        "sns.histplot(clustering.values())\n",
        "plt.ylabel('coeficiente de clusterização')"
      ],
      "metadata": {
        "colab": {
          "base_uri": "https://localhost:8080/",
          "height": 452
        },
        "id": "KI8NNYwtByLW",
        "outputId": "74e6a3d3-6487-40bd-d08d-2957bf1734c0"
      },
      "execution_count": 117,
      "outputs": [
        {
          "output_type": "execute_result",
          "data": {
            "text/plain": [
              "Text(0, 0.5, 'coeficiente de clusterização')"
            ]
          },
          "metadata": {},
          "execution_count": 117
        },
        {
          "output_type": "display_data",
          "data": {
            "text/plain": [
              "<Figure size 640x480 with 1 Axes>"
            ],
            "image/png": "[encoded data removed]"
          },
          "metadata": {}
        }
      ]
    },
    {
      "cell_type": "code",
      "source": [
        "global_clustering = nx.transitivity(G)"
      ],
      "metadata": {
        "id": "3vDKhV8_Bzl6"
      },
      "execution_count": 118,
      "outputs": []
    },
    {
      "cell_type": "code",
      "source": [
        "global_clustering"
      ],
      "metadata": {
        "colab": {
          "base_uri": "https://localhost:8080/"
        },
        "id": "p9jSemolDFOq",
        "outputId": "1506f9e9-4df7-4313-a260-565b7b062123"
      },
      "execution_count": 119,
      "outputs": [
        {
          "output_type": "execute_result",
          "data": {
            "text/plain": [
              "0.5723294969090817"
            ]
          },
          "metadata": {},
          "execution_count": 119
        }
      ]
    },
    {
      "cell_type": "code",
      "source": [
        "avg_dist = nx.average_shortest_path_length(big_component)\n",
        "avg_dist"
      ],
      "metadata": {
        "colab": {
          "base_uri": "https://localhost:8080/"
        },
        "id": "6YLeK1kPDGrr",
        "outputId": "1af787db-673f-4a7d-81d0-2a04c443cb13"
      },
      "execution_count": 120,
      "outputs": [
        {
          "output_type": "execute_result",
          "data": {
            "text/plain": [
              "1.7644253997924801"
            ]
          },
          "metadata": {},
          "execution_count": 120
        }
      ]
    },
    {
      "cell_type": "code",
      "source": [
        "pearson_coef = nx.degree_pearson_correlation_coefficient(G, weight='weight')\n",
        "pearson_coef"
      ],
      "metadata": {
        "colab": {
          "base_uri": "https://localhost:8080/"
        },
        "id": "d4F1xxvSIHsq",
        "outputId": "4cb1bdb4-fb5e-4ac0-8d2c-16de1095e497"
      },
      "execution_count": 121,
      "outputs": [
        {
          "output_type": "execute_result",
          "data": {
            "text/plain": [
              "-0.07214103958271587"
            ]
          },
          "metadata": {},
          "execution_count": 121
        }
      ]
    },
    {
      "cell_type": "code",
      "source": [
        "assortativity = nx.degree_assortativity_coefficient(G)\n",
        "assortativity"
      ],
      "metadata": {
        "colab": {
          "base_uri": "https://localhost:8080/"
        },
        "id": "fJa3CfXSJRLl",
        "outputId": "fee198a1-24ec-485b-9329-00a5bd1c1c54"
      },
      "execution_count": 122,
      "outputs": [
        {
          "output_type": "execute_result",
          "data": {
            "text/plain": [
              "-0.09754578778195466"
            ]
          },
          "metadata": {},
          "execution_count": 122
        }
      ]
    },
    {
      "cell_type": "code",
      "source": [],
      "metadata": {
        "id": "SU69La_fKBgp"
      },
      "execution_count": 122,
      "outputs": []
    }
  ]
}